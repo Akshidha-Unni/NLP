{
  "nbformat": 4,
  "nbformat_minor": 0,
  "metadata": {
    "colab": {
      "provenance": [],
      "authorship_tag": "ABX9TyN0TdGRH7q666dMw3YbPsPg",
      "include_colab_link": true
    },
    "kernelspec": {
      "name": "python3",
      "display_name": "Python 3"
    },
    "language_info": {
      "name": "python"
    }
  },
  "cells": [
    {
      "cell_type": "markdown",
      "metadata": {
        "id": "view-in-github",
        "colab_type": "text"
      },
      "source": [
        "<a href=\"https://colab.research.google.com/github/Akshidha-Unni/NLP/blob/main/NLP_Text_Summarizer.ipynb\" target=\"_parent\"><img src=\"https://colab.research.google.com/assets/colab-badge.svg\" alt=\"Open In Colab\"/></a>"
      ]
    },
    {
      "cell_type": "markdown",
      "source": [
        "Install Required Libraries"
      ],
      "metadata": {
        "id": "Ypp-txql8r_A"
      }
    },
    {
      "cell_type": "code",
      "source": [
        "pip install sumy"
      ],
      "metadata": {
        "colab": {
          "base_uri": "https://localhost:8080/"
        },
        "id": "EdiVMBKYU8Mz",
        "outputId": "5ac15e66-68fb-4f6b-9d39-67e7cae96c20"
      },
      "execution_count": 1,
      "outputs": [
        {
          "output_type": "stream",
          "name": "stdout",
          "text": [
            "Looking in indexes: https://pypi.org/simple, https://us-python.pkg.dev/colab-wheels/public/simple/\n",
            "Collecting sumy\n",
            "  Downloading sumy-0.11.0-py2.py3-none-any.whl (97 kB)\n",
            "\u001b[2K     \u001b[90m━━━━━━━━━━━━━━━━━━━━━━━━━━━━━━━━━━━━━━━━\u001b[0m \u001b[32m97.3/97.3 KB\u001b[0m \u001b[31m5.5 MB/s\u001b[0m eta \u001b[36m0:00:00\u001b[0m\n",
            "\u001b[?25hCollecting pycountry>=18.2.23\n",
            "  Downloading pycountry-22.3.5.tar.gz (10.1 MB)\n",
            "\u001b[2K     \u001b[90m━━━━━━━━━━━━━━━━━━━━━━━━━━━━━━━━━━━━━━━━\u001b[0m \u001b[32m10.1/10.1 MB\u001b[0m \u001b[31m77.1 MB/s\u001b[0m eta \u001b[36m0:00:00\u001b[0m\n",
            "\u001b[?25h  Installing build dependencies ... \u001b[?25l\u001b[?25hdone\n",
            "  Getting requirements to build wheel ... \u001b[?25l\u001b[?25hdone\n",
            "  Preparing metadata (pyproject.toml) ... \u001b[?25l\u001b[?25hdone\n",
            "Collecting docopt<0.7,>=0.6.1\n",
            "  Downloading docopt-0.6.2.tar.gz (25 kB)\n",
            "  Preparing metadata (setup.py) ... \u001b[?25l\u001b[?25hdone\n",
            "Requirement already satisfied: nltk>=3.0.2 in /usr/local/lib/python3.8/dist-packages (from sumy) (3.7)\n",
            "Collecting breadability>=0.1.20\n",
            "  Downloading breadability-0.1.20.tar.gz (32 kB)\n",
            "  Preparing metadata (setup.py) ... \u001b[?25l\u001b[?25hdone\n",
            "Requirement already satisfied: requests>=2.7.0 in /usr/local/lib/python3.8/dist-packages (from sumy) (2.25.1)\n",
            "Requirement already satisfied: chardet in /usr/local/lib/python3.8/dist-packages (from breadability>=0.1.20->sumy) (4.0.0)\n",
            "Requirement already satisfied: lxml>=2.0 in /usr/local/lib/python3.8/dist-packages (from breadability>=0.1.20->sumy) (4.9.2)\n",
            "Requirement already satisfied: joblib in /usr/local/lib/python3.8/dist-packages (from nltk>=3.0.2->sumy) (1.2.0)\n",
            "Requirement already satisfied: regex>=2021.8.3 in /usr/local/lib/python3.8/dist-packages (from nltk>=3.0.2->sumy) (2022.6.2)\n",
            "Requirement already satisfied: click in /usr/local/lib/python3.8/dist-packages (from nltk>=3.0.2->sumy) (7.1.2)\n",
            "Requirement already satisfied: tqdm in /usr/local/lib/python3.8/dist-packages (from nltk>=3.0.2->sumy) (4.64.1)\n",
            "Requirement already satisfied: setuptools in /usr/local/lib/python3.8/dist-packages (from pycountry>=18.2.23->sumy) (57.4.0)\n",
            "Requirement already satisfied: certifi>=2017.4.17 in /usr/local/lib/python3.8/dist-packages (from requests>=2.7.0->sumy) (2022.12.7)\n",
            "Requirement already satisfied: urllib3<1.27,>=1.21.1 in /usr/local/lib/python3.8/dist-packages (from requests>=2.7.0->sumy) (1.24.3)\n",
            "Requirement already satisfied: idna<3,>=2.5 in /usr/local/lib/python3.8/dist-packages (from requests>=2.7.0->sumy) (2.10)\n",
            "Building wheels for collected packages: breadability, docopt, pycountry\n",
            "  Building wheel for breadability (setup.py) ... \u001b[?25l\u001b[?25hdone\n",
            "  Created wheel for breadability: filename=breadability-0.1.20-py2.py3-none-any.whl size=21714 sha256=897b59d452bcba084c5cc15a1202c0bd9a00e54d91eb50ca68d16bc70c4c08db\n",
            "  Stored in directory: /root/.cache/pip/wheels/5f/0d/0c/2062d8c1758b4b1a2e42b4a63e6660d9ec2ba9463cfee9eeab\n",
            "  Building wheel for docopt (setup.py) ... \u001b[?25l\u001b[?25hdone\n",
            "  Created wheel for docopt: filename=docopt-0.6.2-py2.py3-none-any.whl size=13723 sha256=fea41810ac93779ace809ad8b2c6bf9b98d67b22f26dce0c70e10fbf0d70e57e\n",
            "  Stored in directory: /root/.cache/pip/wheels/56/ea/58/ead137b087d9e326852a851351d1debf4ada529b6ac0ec4e8c\n",
            "  Building wheel for pycountry (pyproject.toml) ... \u001b[?25l\u001b[?25hdone\n",
            "  Created wheel for pycountry: filename=pycountry-22.3.5-py2.py3-none-any.whl size=10681845 sha256=df773eba900c1edd9bcc383f2c2197c8e0256e1cdcbfce7bfbcfeb3cfa02c2be\n",
            "  Stored in directory: /root/.cache/pip/wheels/e2/aa/0f/c224e473b464387170b83ca7c66947b4a7e33e8d903a679748\n",
            "Successfully built breadability docopt pycountry\n",
            "Installing collected packages: docopt, pycountry, breadability, sumy\n",
            "Successfully installed breadability-0.1.20 docopt-0.6.2 pycountry-22.3.5 sumy-0.11.0\n"
          ]
        }
      ]
    },
    {
      "cell_type": "code",
      "source": [
        "#installing rouge library\n",
        "!pip install rouge"
      ],
      "metadata": {
        "colab": {
          "base_uri": "https://localhost:8080/"
        },
        "id": "a2sZGk2T9Kj3",
        "outputId": "f7664d15-fb0c-4537-e113-8f57f0e3d995"
      },
      "execution_count": 2,
      "outputs": [
        {
          "output_type": "stream",
          "name": "stdout",
          "text": [
            "Looking in indexes: https://pypi.org/simple, https://us-python.pkg.dev/colab-wheels/public/simple/\n",
            "Collecting rouge\n",
            "  Downloading rouge-1.0.1-py3-none-any.whl (13 kB)\n",
            "Requirement already satisfied: six in /usr/local/lib/python3.8/dist-packages (from rouge) (1.15.0)\n",
            "Installing collected packages: rouge\n",
            "Successfully installed rouge-1.0.1\n"
          ]
        }
      ]
    },
    {
      "cell_type": "markdown",
      "source": [
        "Import Required Packages"
      ],
      "metadata": {
        "id": "i97bWvjO-Kkc"
      }
    },
    {
      "cell_type": "code",
      "source": [
        "import sumy\n",
        "import nltk\n",
        "nltk.download('punkt')\n",
        "from sumy.nlp.tokenizers import Tokenizer\n",
        "from sumy.parsers.plaintext import PlaintextParser\n",
        "import numpy as np\n",
        "import matplotlib.pyplot as plt\n",
        "import pandas as pd\n",
        "from matplotlib import pyplot as plt"
      ],
      "metadata": {
        "colab": {
          "base_uri": "https://localhost:8080/"
        },
        "id": "GRUK-rG-UpSs",
        "outputId": "25145a7f-5cf6-4dc1-a215-af4c3aa2ed9b"
      },
      "execution_count": 61,
      "outputs": [
        {
          "output_type": "stream",
          "name": "stderr",
          "text": [
            "[nltk_data] Downloading package punkt to /root/nltk_data...\n",
            "[nltk_data]   Package punkt is already up-to-date!\n"
          ]
        }
      ]
    },
    {
      "cell_type": "code",
      "source": [
        "#Loading the source material to be summarised\n",
        "source_material = \"One of the biggest revolutions in mass media was the introduction and popularity of social media. And the impact of social media was and is so major that it began a completely new era. Some mentionable social media platforms are Facebook, Twitter, Instagram, Pinterest, Linkedin, Whatsapp, etc.The horizons of communication have tremendously expanded because of social media. Also, it is because of the advancement of technology that the pace of human life has to speed up. Social media has received users from almost all generations, but the youngsters crowd social media the most. The youth also create new trends to engage in and unify, but those are temporary as compared to trends that dominated in earlier times.Social media has helped connect people from all corners of Earth and resulted in the formation of a global community. Social media is also a platform where people can freely express themselves and their opinions on several topics, starting from politics to art. Social media has also helped businesses to reach a larger audience and reach out to their customers.But among all the good aspects of social media, one thing that almost everyone realizes is how addictive it is. Also, people seemed to have grown more emotionally distant because of social media. We must be careful about our activities on social media for our well-being.\""
      ],
      "metadata": {
        "id": "Ze8j4bhTVER3"
      },
      "execution_count": 4,
      "outputs": []
    },
    {
      "cell_type": "code",
      "source": [
        "#length of the source text\n",
        "len(source_material)"
      ],
      "metadata": {
        "colab": {
          "base_uri": "https://localhost:8080/"
        },
        "id": "V99eI7mBVNDg",
        "outputId": "9264136a-6868-4ba5-c525-dc267b3590b9"
      },
      "execution_count": 5,
      "outputs": [
        {
          "output_type": "execute_result",
          "data": {
            "text/plain": [
              "1351"
            ]
          },
          "metadata": {},
          "execution_count": 5
        }
      ]
    },
    {
      "cell_type": "code",
      "source": [
        "LANGUAGE = \"english\"\n",
        "parser = PlaintextParser.from_string(source_material,Tokenizer(LANGUAGE))"
      ],
      "metadata": {
        "id": "NW2GflKQVSue"
      },
      "execution_count": 6,
      "outputs": []
    },
    {
      "cell_type": "markdown",
      "source": [
        "## **Luhn's Heuristic Method**\n",
        "\n",
        "\n",
        "\n"
      ],
      "metadata": {
        "id": "jxHbJmQtldPS"
      }
    },
    {
      "cell_type": "code",
      "source": [
        "#import LuhnSummarizer package from sumy package\n",
        "from sumy.summarizers.luhn import LuhnSummarizer"
      ],
      "metadata": {
        "id": "wXbQR4OE92qB"
      },
      "execution_count": 7,
      "outputs": []
    },
    {
      "cell_type": "code",
      "source": [
        "#create the summarizer\n",
        "Luhn_summarizer = LuhnSummarizer()"
      ],
      "metadata": {
        "id": "aNAhC_NkVf9P"
      },
      "execution_count": 8,
      "outputs": []
    },
    {
      "cell_type": "code",
      "source": [
        "#Generate automatic summary using Luhn Summarizer\n",
        "Luhn_summary = Luhn_summarizer(parser.document,sentences_count=2)"
      ],
      "metadata": {
        "id": "KQVfUzZpVjKF"
      },
      "execution_count": 9,
      "outputs": []
    },
    {
      "cell_type": "code",
      "source": [
        "#output tuple\n",
        "Luhn_summary"
      ],
      "metadata": {
        "colab": {
          "base_uri": "https://localhost:8080/"
        },
        "id": "JqbdbJPAVpFZ",
        "outputId": "277ef37e-ebbc-40b6-910e-1b5882e7ad64"
      },
      "execution_count": 10,
      "outputs": [
        {
          "output_type": "execute_result",
          "data": {
            "text/plain": [
              "(<Sentence: The youth also create new trends to engage in and unify, but those are temporary as compared to trends that dominated in earlier times.Social media has helped connect people from all corners of Earth and resulted in the formation of a global community.>,\n",
              " <Sentence: Social media has also helped businesses to reach a larger audience and reach out to their customers.But among all the good aspects of social media, one thing that almost everyone realizes is how addictive it is.>)"
            ]
          },
          "metadata": {},
          "execution_count": 10
        }
      ]
    },
    {
      "cell_type": "code",
      "source": [
        "#Convert the Luhn_summary tuple to string\n",
        "summary_Luhn = \"\"\n",
        "for sentence in Luhn_summary:\n",
        "  summary_Luhn+=str(sentence)\n",
        "print(summary_Luhn)"
      ],
      "metadata": {
        "id": "959DVA6LVuXu",
        "colab": {
          "base_uri": "https://localhost:8080/"
        },
        "outputId": "73972fd8-dbb3-4fc6-8728-e443f64a8fde"
      },
      "execution_count": 11,
      "outputs": [
        {
          "output_type": "stream",
          "name": "stdout",
          "text": [
            "The youth also create new trends to engage in and unify, but those are temporary as compared to trends that dominated in earlier times.Social media has helped connect people from all corners of Earth and resulted in the formation of a global community.Social media has also helped businesses to reach a larger audience and reach out to their customers.But among all the good aspects of social media, one thing that almost everyone realizes is how addictive it is.\n"
          ]
        }
      ]
    },
    {
      "cell_type": "code",
      "source": [
        "#length of the generated summary\n",
        "print(len(summary_Luhn))"
      ],
      "metadata": {
        "colab": {
          "base_uri": "https://localhost:8080/"
        },
        "id": "un-WsvTFjd7I",
        "outputId": "a16199e0-f79f-461a-a4e4-784d1104092e"
      },
      "execution_count": 12,
      "outputs": [
        {
          "output_type": "stream",
          "name": "stdout",
          "text": [
            "463\n"
          ]
        }
      ]
    },
    {
      "cell_type": "code",
      "source": [
        "#reference summary created by online text summarizer - Quillbot\n",
        "reference = \"One of the biggest revolutions in mass media was the introduction and popularity of social media.Social media has received users from almost all generations, but the youngsters crowd social media the most.But among all the good aspects of social media, one thing that almost everyone realizes is how addictive it is.We must be careful about our activities on social media for our well-being.\""
      ],
      "metadata": {
        "id": "mOzeKL38mMGH"
      },
      "execution_count": 13,
      "outputs": []
    },
    {
      "cell_type": "code",
      "source": [
        "#length of the reference summary\n",
        "len(reference)"
      ],
      "metadata": {
        "colab": {
          "base_uri": "https://localhost:8080/"
        },
        "id": "jXfDd5DimxxG",
        "outputId": "145037c1-d19b-4db0-ce3e-25d7d3ae4076"
      },
      "execution_count": 14,
      "outputs": [
        {
          "output_type": "execute_result",
          "data": {
            "text/plain": [
              "391"
            ]
          },
          "metadata": {},
          "execution_count": 14
        }
      ]
    },
    {
      "cell_type": "code",
      "source": [
        "#import Rouge package from rouge library\n",
        "from rouge import Rouge\n",
        "ROUGE = Rouge()"
      ],
      "metadata": {
        "id": "wW3o4yB_nG8C"
      },
      "execution_count": 15,
      "outputs": []
    },
    {
      "cell_type": "code",
      "source": [
        "#Compare generated summary with reference summary generated by online summarizer\n",
        "ROUGE.get_scores(summary_Luhn,reference)"
      ],
      "metadata": {
        "colab": {
          "base_uri": "https://localhost:8080/"
        },
        "id": "WGAbvVoSm3Gn",
        "outputId": "51bb956f-b558-475f-d960-0df715460a20"
      },
      "execution_count": 16,
      "outputs": [
        {
          "output_type": "execute_result",
          "data": {
            "text/plain": [
              "[{'rouge-1': {'r': 0.5306122448979592,\n",
              "   'p': 0.43333333333333335,\n",
              "   'f': 0.47706421523440795},\n",
              "  'rouge-2': {'r': 0.3387096774193548,\n",
              "   'p': 0.2692307692307692,\n",
              "   'f': 0.29999999506530617},\n",
              "  'rouge-l': {'r': 0.5306122448979592,\n",
              "   'p': 0.43333333333333335,\n",
              "   'f': 0.47706421523440795}}]"
            ]
          },
          "metadata": {},
          "execution_count": 16
        }
      ]
    },
    {
      "cell_type": "code",
      "source": [
        "#Plot a bar graph to compare Rouge values\n",
        "barWidth = 0.25\n",
        "fig = plt.subplots(figsize =(8, 4))\n",
        "re=[0.530, 0.338,0.530]\n",
        "pr=[0.433,0.269, 0.433]\n",
        "f1=[0.477,0.299,0.477]\n",
        "\n",
        "br1 = np.arange(len(re))\n",
        "br2 = [x + barWidth for x in br1]\n",
        "br3 = [x + barWidth for x in br2]\n",
        "\n",
        "plt.bar(br1,re, color ='#FFC300', width = barWidth,\n",
        "        edgecolor ='grey', label ='recall')\n",
        "plt.bar(br2,pr, color ='#CD5C5C', width = barWidth,\n",
        "        edgecolor ='grey', label ='precision')\n",
        "plt.bar(br3,f1, color ='#581845', width = barWidth,\n",
        "        edgecolor ='grey', label ='F1 Score')\n",
        "\n",
        "plt.xticks([r + barWidth for r in range(len(re))],\n",
        "        ['Rouge-1','Rouge-2','Rouge-l'])\n",
        " \n",
        "plt.legend()\n",
        "plt.show()"
      ],
      "metadata": {
        "colab": {
          "base_uri": "https://localhost:8080/",
          "height": 265
        },
        "id": "xdueRrmJGljz",
        "outputId": "0239c894-12f9-4fcb-b1aa-8c12b9b1f68f"
      },
      "execution_count": 56,
      "outputs": [
        {
          "output_type": "display_data",
          "data": {
            "text/plain": [
              "<Figure size 576x288 with 1 Axes>"
            ],
            "image/png": "[encoded data removed]"
          },
          "metadata": {
            "needs_background": "light"
          }
        }
      ]
    },
    {
      "cell_type": "markdown",
      "source": [
        "## **Kullback-Leibler Sum**"
      ],
      "metadata": {
        "id": "DwoGDhTn4RPW"
      }
    },
    {
      "cell_type": "code",
      "source": [
        "#import KLSummarizer package from sumy Library\n",
        "from sumy.summarizers.kl import KLSummarizer"
      ],
      "metadata": {
        "id": "-JNwySnJ4sAh"
      },
      "execution_count": 18,
      "outputs": []
    },
    {
      "cell_type": "code",
      "source": [
        "#create the summarizer\n",
        "summarizer = KLSummarizer()"
      ],
      "metadata": {
        "id": "ZA_iBYfHrxLQ"
      },
      "execution_count": 19,
      "outputs": []
    },
    {
      "cell_type": "code",
      "source": [
        "#Generate automatic summary using KL Summarizer\n",
        "testsummaryKL = summarizer(parser.document,sentences_count=4)"
      ],
      "metadata": {
        "id": "MRBTUC4l4YA8"
      },
      "execution_count": 20,
      "outputs": []
    },
    {
      "cell_type": "code",
      "source": [
        "#convert testsummaryKL tuple to string\n",
        "summaryKL = \"\"\n",
        "for sentence in testsummaryKL:\n",
        "  summaryKL+=str(sentence)\n",
        "print(summaryKL)"
      ],
      "metadata": {
        "colab": {
          "base_uri": "https://localhost:8080/"
        },
        "id": "j9RLI1w442OG",
        "outputId": "7ab797c7-9353-4e22-8c47-ef8282e47176"
      },
      "execution_count": 21,
      "outputs": [
        {
          "output_type": "stream",
          "name": "stdout",
          "text": [
            "Some mentionable social media platforms are Facebook, Twitter, Instagram, Pinterest, Linkedin, Whatsapp, etc.The horizons of communication have tremendously expanded because of social media.Also, it is because of the advancement of technology that the pace of human life has to speed up.Social media has received users from almost all generations, but the youngsters crowd social media the most.Also, people seemed to have grown more emotionally distant because of social media.\n"
          ]
        }
      ]
    },
    {
      "cell_type": "code",
      "source": [
        "#length of the obtained summary\n",
        "len(summaryKL)"
      ],
      "metadata": {
        "colab": {
          "base_uri": "https://localhost:8080/"
        },
        "id": "zCpXkZho4_G1",
        "outputId": "521baa2e-48f1-4c4d-c7ce-0036597d1a4d"
      },
      "execution_count": 22,
      "outputs": [
        {
          "output_type": "execute_result",
          "data": {
            "text/plain": [
              "478"
            ]
          },
          "metadata": {},
          "execution_count": 22
        }
      ]
    },
    {
      "cell_type": "code",
      "source": [
        "#Compare generated summary with reference summary generated by online summarizer\n",
        "ROUGE.get_scores(summaryKL,reference)"
      ],
      "metadata": {
        "colab": {
          "base_uri": "https://localhost:8080/"
        },
        "id": "WiDj45Wi5BkF",
        "outputId": "75ab4023-fc87-4af9-ff6b-e8b42787357d"
      },
      "execution_count": 23,
      "outputs": [
        {
          "output_type": "execute_result",
          "data": {
            "text/plain": [
              "[{'rouge-1': {'r': 0.3877551020408163,\n",
              "   'p': 0.36538461538461536,\n",
              "   'f': 0.3762376187667876},\n",
              "  'rouge-2': {'r': 0.3064516129032258,\n",
              "   'p': 0.2878787878787879,\n",
              "   'f': 0.29687499500488285},\n",
              "  'rouge-l': {'r': 0.3469387755102041,\n",
              "   'p': 0.3269230769230769,\n",
              "   'f': 0.336633658370748}}]"
            ]
          },
          "metadata": {},
          "execution_count": 23
        }
      ]
    },
    {
      "cell_type": "code",
      "source": [
        "#Plot a bar graph to compare Rouge values\n",
        "barWidth = 0.25\n",
        "fig = plt.subplots(figsize =(8, 4))\n",
        "\n",
        "re=[0.387,0.306,0.346]\n",
        "pr=[0.365,0.287,0.326]\n",
        "f1=[0.376,0.296,0.336]\n",
        " \n",
        "br1 = np.arange(len(re))\n",
        "br2 = [x + barWidth for x in br1]\n",
        "br3 = [x + barWidth for x in br2]\n",
        "\n",
        "plt.bar(br1,re, color ='#FFC300', width = barWidth,\n",
        "        edgecolor ='grey', label ='recall')\n",
        "plt.bar(br2,pr, color ='#CD5C5C', width = barWidth,\n",
        "        edgecolor ='grey', label ='precision')\n",
        "plt.bar(br3,f1, color ='#581845', width = barWidth,\n",
        "        edgecolor ='grey', label ='F1 Score')\n",
        "\n",
        "plt.xticks([r + barWidth for r in range(len(re))],\n",
        "        ['Rouge-1','Rouge-2','Rouge-l'])\n",
        " \n",
        "plt.legend()\n",
        "plt.show()"
      ],
      "metadata": {
        "colab": {
          "base_uri": "https://localhost:8080/",
          "height": 266
        },
        "id": "sXcKlUBYW5qr",
        "outputId": "580a7ae2-a447-4404-a386-aa224ef6d01e"
      },
      "execution_count": 57,
      "outputs": [
        {
          "output_type": "display_data",
          "data": {
            "text/plain": [
              "<Figure size 576x288 with 1 Axes>"
            ],
            "image/png": "[encoded data removed]"
          },
          "metadata": {
            "needs_background": "light"
          }
        }
      ]
    },
    {
      "cell_type": "markdown",
      "source": [
        "## **Latent Semantic Analysis (LSA)**"
      ],
      "metadata": {
        "id": "phDH3tg57UiM"
      }
    },
    {
      "cell_type": "code",
      "source": [
        "#import LsaSummarizer package from sumy library\n",
        "from sumy.summarizers.lsa import LsaSummarizer"
      ],
      "metadata": {
        "id": "HyTM09ed5dan"
      },
      "execution_count": 24,
      "outputs": []
    },
    {
      "cell_type": "code",
      "source": [
        "#create the summarizer\n",
        "summarizer = LsaSummarizer()"
      ],
      "metadata": {
        "id": "1kU4Dwq77d1q"
      },
      "execution_count": 25,
      "outputs": []
    },
    {
      "cell_type": "code",
      "source": [
        "#Generate automatic summary using LSA Summarizer\n",
        "testsummaryLSA = summarizer(parser.document,sentences_count=4)"
      ],
      "metadata": {
        "id": "aK-5ZyX77qGl"
      },
      "execution_count": 26,
      "outputs": []
    },
    {
      "cell_type": "code",
      "source": [
        "#Convert testsummaryLSA tuple to string\n",
        "summaryLSA = \"\"\n",
        "for sentence in testsummaryLSA:\n",
        "  summaryLSA+=str(sentence)\n",
        "print(summaryLSA)"
      ],
      "metadata": {
        "colab": {
          "base_uri": "https://localhost:8080/"
        },
        "id": "luCyDx8U8AOd",
        "outputId": "2d0469a8-cb9b-4543-c7f3-07d71d097062"
      },
      "execution_count": 27,
      "outputs": [
        {
          "output_type": "stream",
          "name": "stdout",
          "text": [
            "The youth also create new trends to engage in and unify, but those are temporary as compared to trends that dominated in earlier times.Social media has helped connect people from all corners of Earth and resulted in the formation of a global community.Social media is also a platform where people can freely express themselves and their opinions on several topics, starting from politics to art.Social media has also helped businesses to reach a larger audience and reach out to their customers.But among all the good aspects of social media, one thing that almost everyone realizes is how addictive it is.Also, people seemed to have grown more emotionally distant because of social media.\n"
          ]
        }
      ]
    },
    {
      "cell_type": "code",
      "source": [
        "#Compare generated summary with reference summary generated by online summarizer\n",
        "ROUGE.get_scores(summaryLSA,reference)"
      ],
      "metadata": {
        "colab": {
          "base_uri": "https://localhost:8080/"
        },
        "id": "5JZ742_J8DdD",
        "outputId": "dbd48cec-0e90-414f-b83c-c2c6dc993031"
      },
      "execution_count": 28,
      "outputs": [
        {
          "output_type": "execute_result",
          "data": {
            "text/plain": [
              "[{'rouge-1': {'r': 0.5510204081632653,\n",
              "   'p': 0.3333333333333333,\n",
              "   'f': 0.41538461068757404},\n",
              "  'rouge-2': {'r': 0.3548387096774194,\n",
              "   'p': 0.19642857142857142,\n",
              "   'f': 0.25287355863125915},\n",
              "  'rouge-l': {'r': 0.5306122448979592,\n",
              "   'p': 0.32098765432098764,\n",
              "   'f': 0.39999999530295866}}]"
            ]
          },
          "metadata": {},
          "execution_count": 28
        }
      ]
    },
    {
      "cell_type": "code",
      "source": [
        "#Plot a bar graph to compare Rouge values\n",
        "barWidth = 0.25\n",
        "fig = plt.subplots(figsize =(8, 4))\n",
        " \n",
        "re=[0.551,0.354,0.530]\n",
        "pr=[0.333,0.196,0.320]\n",
        "f1=[0.415,0.252,0.399]\n",
        " \n",
        "br1 = np.arange(len(re))\n",
        "br2 = [x + barWidth for x in br1]\n",
        "br3 = [x + barWidth for x in br2]\n",
        "\n",
        "plt.bar(br1,re, color ='#FFC300', width = barWidth,\n",
        "        edgecolor ='grey', label ='recall')\n",
        "plt.bar(br2,pr, color ='#CD5C5C', width = barWidth,\n",
        "        edgecolor ='grey', label ='precision')\n",
        "plt.bar(br3,f1, color ='#581845', width = barWidth,\n",
        "        edgecolor ='grey', label ='F1 Score')\n",
        "\n",
        "plt.xticks([r + barWidth for r in range(len(re))],\n",
        "        ['Rouge-1','Rouge-2','Rouge-l'])\n",
        " \n",
        "plt.legend()\n",
        "plt.show()"
      ],
      "metadata": {
        "colab": {
          "base_uri": "https://localhost:8080/",
          "height": 265
        },
        "id": "PDLybI1OYvpD",
        "outputId": "3a86929b-aed4-454b-ec24-0187bb1b7303"
      },
      "execution_count": 58,
      "outputs": [
        {
          "output_type": "display_data",
          "data": {
            "text/plain": [
              "<Figure size 576x288 with 1 Axes>"
            ],
            "image/png": "[encoded data removed]"
          },
          "metadata": {
            "needs_background": "light"
          }
        }
      ]
    },
    {
      "cell_type": "markdown",
      "source": [
        "## **TextRank**"
      ],
      "metadata": {
        "id": "xmiXL1wGq6qL"
      }
    },
    {
      "cell_type": "code",
      "source": [
        "#install gensim library\n",
        "!pip install gensim"
      ],
      "metadata": {
        "colab": {
          "base_uri": "https://localhost:8080/"
        },
        "id": "Yy1UYQj5m-JL",
        "outputId": "b74254b7-6bc5-4789-de2c-da6ffb318359"
      },
      "execution_count": 29,
      "outputs": [
        {
          "output_type": "stream",
          "name": "stdout",
          "text": [
            "Looking in indexes: https://pypi.org/simple, https://us-python.pkg.dev/colab-wheels/public/simple/\n",
            "Requirement already satisfied: gensim in /usr/local/lib/python3.8/dist-packages (3.6.0)\n",
            "Requirement already satisfied: scipy>=0.18.1 in /usr/local/lib/python3.8/dist-packages (from gensim) (1.7.3)\n",
            "Requirement already satisfied: smart-open>=1.2.1 in /usr/local/lib/python3.8/dist-packages (from gensim) (6.3.0)\n",
            "Requirement already satisfied: six>=1.5.0 in /usr/local/lib/python3.8/dist-packages (from gensim) (1.15.0)\n",
            "Requirement already satisfied: numpy>=1.11.3 in /usr/local/lib/python3.8/dist-packages (from gensim) (1.21.6)\n"
          ]
        }
      ]
    },
    {
      "cell_type": "code",
      "source": [
        "#from gensim library import summarize function\n",
        "import gensim\n",
        "from gensim.summarization import summarize"
      ],
      "metadata": {
        "id": "kVtiQb9Uq4uY"
      },
      "execution_count": 30,
      "outputs": []
    },
    {
      "cell_type": "code",
      "source": [
        "#pass source_material to summarize function\n",
        "summary_TR = summarize(source_material,word_count=100)\n",
        "summary_TR"
      ],
      "metadata": {
        "colab": {
          "base_uri": "https://localhost:8080/",
          "height": 88
        },
        "id": "fs3tZxaTrUYh",
        "outputId": "c9ac087f-7017-49fb-ea43-2078a788d43f"
      },
      "execution_count": 31,
      "outputs": [
        {
          "output_type": "execute_result",
          "data": {
            "text/plain": [
              "'Some mentionable social media platforms are Facebook, Twitter, Instagram, Pinterest, Linkedin, Whatsapp, etc.The horizons of communication have tremendously expanded because of social media.\\nThe youth also create new trends to engage in and unify, but those are temporary as compared to trends that dominated in earlier times.Social media has helped connect people from all corners of Earth and resulted in the formation of a global community.\\nSocial media is also a platform where people can freely express themselves and their opinions on several topics, starting from politics to art.\\nAlso, people seemed to have grown more emotionally distant because of social media.'"
            ],
            "application/vnd.google.colaboratory.intrinsic+json": {
              "type": "string"
            }
          },
          "metadata": {},
          "execution_count": 31
        }
      ]
    },
    {
      "cell_type": "code",
      "source": [
        "#length of generated summary\n",
        "len(summary_TR)"
      ],
      "metadata": {
        "colab": {
          "base_uri": "https://localhost:8080/"
        },
        "id": "FHHXJuetrdw5",
        "outputId": "1fb7c52b-2ce3-4c11-e107-bcb9447405df"
      },
      "execution_count": 32,
      "outputs": [
        {
          "output_type": "execute_result",
          "data": {
            "text/plain": [
              "671"
            ]
          },
          "metadata": {},
          "execution_count": 32
        }
      ]
    },
    {
      "cell_type": "code",
      "source": [
        "#compare TextRank generated summary with reference summary\n",
        "ROUGE.get_scores(summary_TR,reference)"
      ],
      "metadata": {
        "colab": {
          "base_uri": "https://localhost:8080/"
        },
        "id": "w3V_-pt5rjMy",
        "outputId": "0c5c870d-1d32-4926-d061-0549d392523d"
      },
      "execution_count": 33,
      "outputs": [
        {
          "output_type": "execute_result",
          "data": {
            "text/plain": [
              "[{'rouge-1': {'r': 0.2857142857142857,\n",
              "   'p': 0.18421052631578946,\n",
              "   'f': 0.2239999952332801},\n",
              "  'rouge-2': {'r': 0.06451612903225806,\n",
              "   'p': 0.04081632653061224,\n",
              "   'f': 0.04999999525312546},\n",
              "  'rouge-l': {'r': 0.2653061224489796,\n",
              "   'p': 0.17105263157894737,\n",
              "   'f': 0.20799999523328008}}]"
            ]
          },
          "metadata": {},
          "execution_count": 33
        }
      ]
    },
    {
      "cell_type": "code",
      "source": [
        "#Plot a bar graph to compare Rouge values\n",
        "barWidth = 0.25\n",
        "fig = plt.subplots(figsize =(8, 4))\n",
        " \n",
        "re=[0.285,0.064,0.265]\n",
        "pr=[0.184,0.040,0.171]\n",
        "f1=[0.223,0.049,0.207]\n",
        " \n",
        "br1 = np.arange(len(re))\n",
        "br2 = [x + barWidth for x in br1]\n",
        "br3 = [x + barWidth for x in br2]\n",
        "\n",
        "plt.bar(br1,re, color ='#FFC300', width = barWidth,\n",
        "        edgecolor ='grey', label ='recall')\n",
        "plt.bar(br2,pr, color ='#CD5C5C', width = barWidth,\n",
        "        edgecolor ='grey', label ='precision')\n",
        "plt.bar(br3,f1, color ='#581845', width = barWidth,\n",
        "        edgecolor ='grey', label ='F1 Score')\n",
        "\n",
        "plt.xticks([r + barWidth for r in range(len(re))],\n",
        "        ['Rouge-1','Rouge-2','Rouge-l'])\n",
        " \n",
        "plt.legend()\n",
        "plt.show()"
      ],
      "metadata": {
        "colab": {
          "base_uri": "https://localhost:8080/",
          "height": 265
        },
        "id": "JK4-y5sAbut9",
        "outputId": "9aab4224-e75b-48ed-c2de-6390b7b12c41"
      },
      "execution_count": 62,
      "outputs": [
        {
          "output_type": "display_data",
          "data": {
            "text/plain": [
              "<Figure size 576x288 with 1 Axes>"
            ],
            "image/png": "[encoded data removed]"
          },
          "metadata": {
            "needs_background": "light"
          }
        }
      ]
    },
    {
      "cell_type": "markdown",
      "source": [
        "Comparing the Rouge-1 values of each model\n"
      ],
      "metadata": {
        "id": "WIRs1m58ahI5"
      }
    },
    {
      "cell_type": "code",
      "source": [
        "barWidth = 0.25\n",
        "fig = plt.subplots(figsize =(8, 4))\n",
        " \n",
        "re=[0.530,0.387,0.551,0.285]\n",
        "pr=[0.433,0.365,0.333,0.184]\n",
        "f1=[0.477,0.376,0.415,0.223]\n",
        "\n",
        "br1 = np.arange(len(re))\n",
        "br2 = [x + barWidth for x in br1]\n",
        "br3 = [x + barWidth for x in br2]\n",
        " \n",
        "plt.bar(br1,re, color ='y', width = barWidth,\n",
        "        edgecolor ='grey', label ='recall')\n",
        "plt.bar(br2,pr, color ='g', width = barWidth,\n",
        "        edgecolor ='grey', label ='precision')\n",
        "plt.bar(br3,f1, color ='b', width = barWidth,\n",
        "        edgecolor ='grey', label ='F1 Score')\n",
        "   \n",
        "plt.xlabel('Rouge-1', fontweight ='bold', fontsize = 15)\n",
        "plt.xticks([r + barWidth for r in range(len(re))],\n",
        "        ['LH', 'KL', 'LSA', 'TR'])\n",
        " \n",
        "plt.legend()\n",
        "plt.show()"
      ],
      "metadata": {
        "colab": {
          "base_uri": "https://localhost:8080/",
          "height": 284
        },
        "id": "71bQWrXgTRMK",
        "outputId": "e4c9e252-40fc-45d6-e8d4-f5b890f9a722"
      },
      "execution_count": 60,
      "outputs": [
        {
          "output_type": "display_data",
          "data": {
            "text/plain": [
              "<Figure size 576x288 with 1 Axes>"
            ],
            "image/png": "[encoded data removed]"
          },
          "metadata": {
            "needs_background": "light"
          }
        }
      ]
    }
  ]
}