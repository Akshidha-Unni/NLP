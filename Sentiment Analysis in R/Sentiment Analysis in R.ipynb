{
 "cells": [
  {
   "cell_type": "markdown",
   "id": "2b424b32",
   "metadata": {},
   "source": [
    "# Sentiment analysis in R"
   ]
  },
  {
   "cell_type": "markdown",
   "id": "f4a2ed14",
   "metadata": {},
   "source": [
    "### About the Dataset\n",
    "###### Serial Number \n",
    "###### tweets - contains tweets about ChatGPT\n",
    "######   labels - (Target variable) describes about the tweets \n",
    "######   \n",
    "Data set - https://www.kaggle.com/datasets/charunisa/chatgpt-sentiment-analysis"
   ]
  },
  {
   "cell_type": "markdown",
   "id": "03ab549f",
   "metadata": {},
   "source": [
    "##  Read the dataset"
   ]
  },
  {
   "cell_type": "code",
   "execution_count": 97,
   "id": "0fa0e392",
   "metadata": {},
   "outputs": [],
   "source": [
    "#read the dataset\n",
    "data = read.csv(\"C:\\\\Users\\\\akshi\\\\Downloads\\\\archive (1)\\\\chatgpt.csv\",stringsAsFactors = FALSE)"
   ]
  },
  {
   "cell_type": "code",
   "execution_count": 57,
   "id": "8132dd5c",
   "metadata": {},
   "outputs": [
    {
     "data": {
      "text/html": [
       "<table>\n",
       "<thead><tr><th scope=col>X</th><th scope=col>tweets</th><th scope=col>labels</th></tr></thead>\n",
       "<tbody>\n",
       "\t<tr><td>0                                                                                                                                                                                                                                                                         </td><td>ChatGPT: Optimizing Language Models for Dialogue https://t.co/K9rKRygYyn @OpenAI                                                                                                                                                                                          </td><td>neutral                                                                                                                                                                                                                                                                   </td></tr>\n",
       "\t<tr><td>1                                                                                                                                                                                                                                                                         </td><td>Try talking with ChatGPT, our new AI system which is optimized for dialogue. Your feedback will help us improve it. https://t.co/sHDm57g3Kr                                                                                                                               </td><td>good                                                                                                                                                                                                                                                                      </td></tr>\n",
       "\t<tr><td>2                                                                                                                                                                                                                                                                             </td><td>ChatGPT: Optimizing Language Models for Dialogue https://t.co/GLEbMoKN6w #AI #MachineLearning #DataScience #ArtificialIntelligence\\n\\nTrending AI/ML Article Identified &amp;amp; Digested via Granola; a Machine-Driven RSS Bot by Ramsey Elbasheer https://t.co/RprmAXUp34</td><td>neutral                                                                                                                                                                                                                                                                       </td></tr>\n",
       "\t<tr><td>3                                                                                                                                                                                                                                                                         </td><td>THRILLED to share that ChatGPT, our new model optimized for dialog, is now public, free, and accessible to everyone. https://t.co/dyvtHecYbd https://t.co/DdhzhqhCBX https://t.co/l8qTLure71                                                                              </td><td>good                                                                                                                                                                                                                                                                      </td></tr>\n",
       "\t<tr><td>4                                                                                                                                                                                                                                                                         </td><td>As of 2 minutes ago, @OpenAI released their new ChatGPT. \\n\\nAnd you can use it right now ðŸ‘‡ https://t.co/VyPGPNw988 https://t.co/cSn5h6h1M1                                                                                                                          </td><td>bad                                                                                                                                                                                                                                                                       </td></tr>\n",
       "\t<tr><td>5                                                                                                                                                                                                                                                                         </td><td>Just launched ChatGPT, our new AI system which is optimized for dialogue: https://t.co/ArX6m0FfLE.\\n\\nTry it out here: https://t.co/YM1gp5bA64                                                                                                                          </td><td>good                                                                                                                                                                                                                                                                      </td></tr>\n",
       "</tbody>\n",
       "</table>\n"
      ],
      "text/latex": [
       "\\begin{tabular}{r|lll}\n",
       " X & tweets & labels\\\\\n",
       "\\hline\n",
       "\t 0                                                                                                                                                                                                                                                                          & ChatGPT: Optimizing Language Models for Dialogue https://t.co/K9rKRygYyn @OpenAI                                                                                                                                                                                           & neutral                                                                                                                                                                                                                                                                   \\\\\n",
       "\t 1                                                                                                                                                                                                                                                                          & Try talking with ChatGPT, our new AI system which is optimized for dialogue. Your feedback will help us improve it. https://t.co/sHDm57g3Kr                                                                                                                                & good                                                                                                                                                                                                                                                                      \\\\\n",
       "\t 2                                                                                                                                                                                                                                                                                                                  & ChatGPT: Optimizing Language Models for Dialogue https://t.co/GLEbMoKN6w \\#AI \\#MachineLearning \\#DataScience \\#ArtificialIntelligence\\textbackslash{}n\\textbackslash{}nTrending AI/ML Article Identified \\&amp; Digested via Granola; a Machine-Driven RSS Bot by Ramsey Elbasheer https://t.co/RprmAXUp34 & neutral                                                                                                                                                                                                                                                                                                           \\\\\n",
       "\t 3                                                                                                                                                                                                                                                                          & THRILLED to share that ChatGPT, our new model optimized for dialog, is now public, free, and accessible to everyone. https://t.co/dyvtHecYbd https://t.co/DdhzhqhCBX https://t.co/l8qTLure71                                                                               & good                                                                                                                                                                                                                                                                      \\\\\n",
       "\t 4                                                                                                                                                                                                                                                                                                        & As of 2 minutes ago, @OpenAI released their new ChatGPT. \\textbackslash{}n\\textbackslash{}nAnd you can use it right now ðŸ‘‡ https://t.co/VyPGPNw988 https://t.co/cSn5h6h1M1                                                                                                                           & bad                                                                                                                                                                                                                                                                                                     \\\\\n",
       "\t 5                                                                                                                                                                                                                                                                                                        & Just launched ChatGPT, our new AI system which is optimized for dialogue: https://t.co/ArX6m0FfLE.\\textbackslash{}n\\textbackslash{}nTry it out here: https://t.co/YM1gp5bA64                                                                                                                           & good                                                                                                                                                                                                                                                                                                    \\\\\n",
       "\\end{tabular}\n"
      ],
      "text/markdown": [
       "\n",
       "| X | tweets | labels |\n",
       "|---|---|---|\n",
       "| 0                                                                                                                                                                                                                                                                          | ChatGPT: Optimizing Language Models for Dialogue https://t.co/K9rKRygYyn @OpenAI                                                                                                                                                                                           | neutral                                                                                                                                                                                                                                                                    |\n",
       "| 1                                                                                                                                                                                                                                                                          | Try talking with ChatGPT, our new AI system which is optimized for dialogue. Your feedback will help us improve it. https://t.co/sHDm57g3Kr                                                                                                                                | good                                                                                                                                                                                                                                                                       |\n",
       "| 2                                                                                                                                                                                                                                                                          | ChatGPT: Optimizing Language Models for Dialogue https://t.co/GLEbMoKN6w #AI #MachineLearning #DataScience #ArtificialIntelligence\\n\\nTrending AI/ML Article Identified &amp; Digested via Granola; a Machine-Driven RSS Bot by Ramsey Elbasheer https://t.co/RprmAXUp34 | neutral                                                                                                                                                                                                                                                                    |\n",
       "| 3                                                                                                                                                                                                                                                                          | THRILLED to share that ChatGPT, our new model optimized for dialog, is now public, free, and accessible to everyone. https://t.co/dyvtHecYbd https://t.co/DdhzhqhCBX https://t.co/l8qTLure71                                                                               | good                                                                                                                                                                                                                                                                       |\n",
       "| 4                                                                                                                                                                                                                                                                          | As of 2 minutes ago, @OpenAI released their new ChatGPT. \\n\\nAnd you can use it right now ðŸ‘‡ https://t.co/VyPGPNw988 https://t.co/cSn5h6h1M1                                                                                                                           | bad                                                                                                                                                                                                                                                                        |\n",
       "| 5                                                                                                                                                                                                                                                                          | Just launched ChatGPT, our new AI system which is optimized for dialogue: https://t.co/ArX6m0FfLE.\\n\\nTry it out here: https://t.co/YM1gp5bA64                                                                                                                           | good                                                                                                                                                                                                                                                                       |\n",
       "\n"
      ],
      "text/plain": [
       "  X\n",
       "1 0\n",
       "2 1\n",
       "3 2\n",
       "4 3\n",
       "5 4\n",
       "6 5\n",
       "  tweets                                                                                                                                                                                                                                                                    \n",
       "1 ChatGPT: Optimizing Language Models for Dialogue https://t.co/K9rKRygYyn @OpenAI                                                                                                                                                                                          \n",
       "2 Try talking with ChatGPT, our new AI system which is optimized for dialogue. Your feedback will help us improve it. https://t.co/sHDm57g3Kr                                                                                                                               \n",
       "3 ChatGPT: Optimizing Language Models for Dialogue https://t.co/GLEbMoKN6w #AI #MachineLearning #DataScience #ArtificialIntelligence\\\\n\\\\nTrending AI/ML Article Identified &amp; Digested via Granola; a Machine-Driven RSS Bot by Ramsey Elbasheer https://t.co/RprmAXUp34\n",
       "4 THRILLED to share that ChatGPT, our new model optimized for dialog, is now public, free, and accessible to everyone. https://t.co/dyvtHecYbd https://t.co/DdhzhqhCBX https://t.co/l8qTLure71                                                                              \n",
       "5 As of 2 minutes ago, @OpenAI released their new ChatGPT. \\\\n\\\\nAnd you can use it right now ðŸ‘‡ https://t.co/VyPGPNw988 https://t.co/cSn5h6h1M1                                                                                                                          \n",
       "6 Just launched ChatGPT, our new AI system which is optimized for dialogue: https://t.co/ArX6m0FfLE.\\\\n\\\\nTry it out here: https://t.co/YM1gp5bA64                                                                                                                          \n",
       "  labels \n",
       "1 neutral\n",
       "2 good   \n",
       "3 neutral\n",
       "4 good   \n",
       "5 bad    \n",
       "6 good   "
      ]
     },
     "metadata": {},
     "output_type": "display_data"
    }
   ],
   "source": [
    "head(data)"
   ]
  },
  {
   "cell_type": "code",
   "execution_count": 58,
   "id": "c108febf",
   "metadata": {},
   "outputs": [],
   "source": [
    "#delete unwanted columns\n",
    "data = data[,-1]\n",
    "data = data[1:6000,]"
   ]
  },
  {
   "cell_type": "code",
   "execution_count": 59,
   "id": "05b23af4",
   "metadata": {},
   "outputs": [],
   "source": [
    "options(warn=-1)"
   ]
  },
  {
   "cell_type": "code",
   "execution_count": null,
   "id": "c88c54f7",
   "metadata": {
    "scrolled": false
   },
   "outputs": [],
   "source": [
    "#install text mining packages\n",
    "install.packages('tm')"
   ]
  },
  {
   "cell_type": "code",
   "execution_count": 7,
   "id": "c4a397ec",
   "metadata": {},
   "outputs": [
    {
     "name": "stderr",
     "output_type": "stream",
     "text": [
      "Loading required package: NLP\n"
     ]
    }
   ],
   "source": [
    "library(tm)"
   ]
  },
  {
   "cell_type": "markdown",
   "id": "c25ee74c",
   "metadata": {},
   "source": [
    "##  Creating a Corpus"
   ]
  },
  {
   "cell_type": "code",
   "execution_count": 60,
   "id": "30e6bee1",
   "metadata": {},
   "outputs": [],
   "source": [
    "#create a Vcorpus object \n",
    "corpus = VCorpus(VectorSource(data$tweets))"
   ]
  },
  {
   "cell_type": "markdown",
   "id": "21112837",
   "metadata": {},
   "source": [
    "## EDA"
   ]
  },
  {
   "cell_type": "code",
   "execution_count": 61,
   "id": "a4521d16",
   "metadata": {},
   "outputs": [],
   "source": [
    "#cleaning the text\n",
    "#convert to lowercase\n",
    "corpus = tm_map(corpus,content_transformer(tolower))"
   ]
  },
  {
   "cell_type": "code",
   "execution_count": 62,
   "id": "3ace1e62",
   "metadata": {},
   "outputs": [
    {
     "data": {
      "text/html": [
       "'as of 2 minutes ago, @openai released their new chatgpt. \\\\n\\\\nand you can use it right now ðÿ‘‡ https://t.co/vypgpnw988 https://t.co/csn5h6h1m1'"
      ],
      "text/latex": [
       "'as of 2 minutes ago, @openai released their new chatgpt. \\textbackslash{}\\textbackslash{}n\\textbackslash{}\\textbackslash{}nand you can use it right now ðÿ‘‡ https://t.co/vypgpnw988 https://t.co/csn5h6h1m1'"
      ],
      "text/markdown": [
       "'as of 2 minutes ago, @openai released their new chatgpt. \\\\n\\\\nand you can use it right now ðÿ‘‡ https://t.co/vypgpnw988 https://t.co/csn5h6h1m1'"
      ],
      "text/plain": [
       "[1] \"as of 2 minutes ago, @openai released their new chatgpt. \\\\n\\\\nand you can use it right now ðÿ‘‡ https://t.co/vypgpnw988 https://t.co/csn5h6h1m1\""
      ]
     },
     "metadata": {},
     "output_type": "display_data"
    }
   ],
   "source": [
    "as.character(corpus[[5]])"
   ]
  },
  {
   "cell_type": "code",
   "execution_count": 63,
   "id": "6a895b54",
   "metadata": {},
   "outputs": [],
   "source": [
    "#removing links from text\n",
    "remove_links = function(text) {\n",
    "  cleaned_text = gsub(\"(http|https)://[[:alnum:]/\\\\.]+\", \"\", text)\n",
    "  return(cleaned_text)\n",
    "}\n",
    "\n",
    "for (i in 1:length(corpus)) {\n",
    "  corpus[[i]] <- content_transformer(remove_links)(corpus[[i]])\n",
    "}\n"
   ]
  },
  {
   "cell_type": "code",
   "execution_count": 64,
   "id": "840cc40d",
   "metadata": {},
   "outputs": [],
   "source": [
    "#removing any special characters \n",
    "remove_special_chars <- function(text) {\n",
    "  cleaned_text <- gsub(\"[^a-z ]+\", \"\", text)\n",
    "  return(cleaned_text)\n",
    "  \n",
    "}\n",
    "for (i in 1:length(corpus)) {\n",
    "  corpus[[i]] <- content_transformer(remove_special_chars)(corpus[[i]])\n",
    "}"
   ]
  },
  {
   "cell_type": "code",
   "execution_count": 65,
   "id": "fc63116d",
   "metadata": {},
   "outputs": [],
   "source": [
    "#remove stopwords and perform stemming\n",
    "corpus = tm_map(corpus,removeWords,stopwords())\n",
    "corpus = tm_map(corpus,stemDocument)\n",
    "corpus = tm_map(corpus,stripWhitespace)"
   ]
  },
  {
   "cell_type": "code",
   "execution_count": 66,
   "id": "1c358ad2",
   "metadata": {},
   "outputs": [
    {
     "data": {
      "text/html": [
       "'minut ago openai releas new chatgpt nnand can use right now'"
      ],
      "text/latex": [
       "'minut ago openai releas new chatgpt nnand can use right now'"
      ],
      "text/markdown": [
       "'minut ago openai releas new chatgpt nnand can use right now'"
      ],
      "text/plain": [
       "[1] \"minut ago openai releas new chatgpt nnand can use right now\""
      ]
     },
     "metadata": {},
     "output_type": "display_data"
    }
   ],
   "source": [
    "as.character(corpus[[5]])"
   ]
  },
  {
   "cell_type": "markdown",
   "id": "54de3c1f",
   "metadata": {},
   "source": [
    "## Bag of Words Model"
   ]
  },
  {
   "cell_type": "code",
   "execution_count": 67,
   "id": "4fe4bbdc",
   "metadata": {},
   "outputs": [],
   "source": [
    "#creating the bag of words model\n",
    "dtm = DocumentTermMatrix(corpus)\n",
    "dtm = removeSparseTerms(dtm,0.999)"
   ]
  },
  {
   "cell_type": "code",
   "execution_count": 79,
   "id": "c883e29e",
   "metadata": {},
   "outputs": [
    {
     "data": {
      "text/plain": [
       "<<DocumentTermMatrix (documents: 6000, terms: 1307)>>\n",
       "Non-/sparse entries: 50321/7791679\n",
       "Sparsity           : 99%\n",
       "Maximal term length: 47\n",
       "Weighting          : term frequency (tf)"
      ]
     },
     "metadata": {},
     "output_type": "display_data"
    }
   ],
   "source": [
    "dtm"
   ]
  },
  {
   "cell_type": "code",
   "execution_count": 68,
   "id": "892013c5",
   "metadata": {},
   "outputs": [],
   "source": [
    "#convert to dataframe\n",
    "dataset = as.data.frame(as.matrix(dtm))"
   ]
  },
  {
   "cell_type": "code",
   "execution_count": 70,
   "id": "adb1271e",
   "metadata": {},
   "outputs": [
    {
     "data": {
      "image/png": "[encoded data removed]",
      "text/plain": [
       "Plot with title \"Frequent Words - Bar plot\""
      ]
     },
     "metadata": {},
     "output_type": "display_data"
    }
   ],
   "source": [
    "#barplot\n",
    "w = colSums(dataset)\n",
    "w = subset(w, w>=200)\n",
    "barplot(w, \n",
    "        las = 2,\n",
    "        col = rainbow(50),\n",
    "        main = \"Frequent Words - Bar plot\")"
   ]
  },
  {
   "cell_type": "markdown",
   "id": "bfc2d295",
   "metadata": {},
   "source": [
    "## Word Cloud"
   ]
  },
  {
   "cell_type": "code",
   "execution_count": 18,
   "id": "006cdfad",
   "metadata": {},
   "outputs": [
    {
     "name": "stdout",
     "output_type": "stream",
     "text": [
      "package 'wordcloud' successfully unpacked and MD5 sums checked\n",
      "\n",
      "The downloaded binary packages are in\n",
      "\tC:\\Users\\akshi\\AppData\\Local\\Temp\\RtmpwhwlMt\\downloaded_packages\n"
     ]
    }
   ],
   "source": [
    "install.packages(\"wordcloud\", repos='http://cran.us.r-project.org')"
   ]
  },
  {
   "cell_type": "code",
   "execution_count": 19,
   "id": "e577be5b",
   "metadata": {},
   "outputs": [
    {
     "name": "stderr",
     "output_type": "stream",
     "text": [
      "Loading required package: RColorBrewer\n"
     ]
    }
   ],
   "source": [
    "library(wordcloud)"
   ]
  },
  {
   "cell_type": "code",
   "execution_count": 71,
   "id": "8590668b",
   "metadata": {},
   "outputs": [
    {
     "data": {
      "image/png": "[encoded data removed]",
      "text/plain": [
       "plot without title"
      ]
     },
     "metadata": {},
     "output_type": "display_data"
    }
   ],
   "source": [
    "#word cloud \n",
    "w = sort(colSums(dataset),decreasing = TRUE)\n",
    "wordcloud(words = names(w),\n",
    "          freq = w,\n",
    "          random.order = FALSE,\n",
    "          colors = brewer.pal(8,\"Dark2\"),\n",
    "          max.words = 100,\n",
    "          rot.per = 0,\n",
    "          main = \"Word Cloud\")"
   ]
  },
  {
   "cell_type": "code",
   "execution_count": 72,
   "id": "424886eb",
   "metadata": {},
   "outputs": [
    {
     "data": {
      "image/png": "[encoded data removed]",
      "text/plain": [
       "Plot with title \"Sentiment Distribution\""
      ]
     },
     "metadata": {},
     "output_type": "display_data"
    }
   ],
   "source": [
    "#pie chart\n",
    "freq = table(data$labels)\n",
    "#freq = rowSums(data$labels)\n",
    "pie(freq, labels = names(freq), col = c(\"skyblue\",\"pink\",\"yellow\"),main = \"Sentiment Distribution\")"
   ]
  },
  {
   "cell_type": "markdown",
   "id": "4e12ff78",
   "metadata": {},
   "source": [
    "## Associations Among Words"
   ]
  },
  {
   "cell_type": "code",
   "execution_count": 73,
   "id": "1a79c498",
   "metadata": {},
   "outputs": [
    {
     "name": "stdout",
     "output_type": "stream",
     "text": [
      "$chatgpt\n",
      "numeric(0)\n",
      "\n",
      "$openai\n",
      "    new chatbot  releas  sitcom   debut     gpt  easili   trick \n",
      "   0.23    0.19    0.15    0.14    0.12    0.12    0.11    0.11 \n",
      "\n",
      "$ask\n",
      "question    write     gave    login    react     form password    build \n",
      "    0.19     0.17     0.16     0.16     0.15     0.14     0.14     0.13 \n",
      " contain    email \n",
      "    0.11     0.11 \n",
      "\n"
     ]
    }
   ],
   "source": [
    "#finding associations between three most frequent words\n",
    "associations = findAssocs(dtm, terms = c(\"chatgpt\",\"openai\",\"ask\"), corlimit = 0.1)\n",
    "print(associations)"
   ]
  },
  {
   "cell_type": "code",
   "execution_count": 74,
   "id": "41a5211b",
   "metadata": {},
   "outputs": [
    {
     "name": "stdout",
     "output_type": "stream",
     "text": [
      "$answer\n",
      "incorrect  followup    premis     admit      give    mistak  challeng     wrong \n",
      "     0.21      0.19      0.18      0.16      0.16      0.15      0.13      0.13 \n",
      "  correct      demo    direct   version    reject \n",
      "     0.12      0.11      0.11      0.11      0.10 \n",
      "\n",
      "$ask\n",
      "    gave    login    react     form password    build  contain    email \n",
      "    0.16     0.16     0.15     0.14     0.14     0.13     0.11     0.11 \n",
      "\n",
      "$can\n",
      " easili  sitcom   trick chatbot  script explain   still \n",
      "   0.24    0.22    0.17    0.14    0.13    0.11    0.10 \n",
      "\n",
      "$chatgpt\n",
      "numeric(0)\n",
      "\n",
      "$code\n",
      "  sitcom   advent   easili  explain   script    login password    trick \n",
      "    0.27     0.21     0.21     0.21     0.20     0.17     0.17     0.17 \n",
      "   debug    react    still  chatbot     form   python   explan      fix \n",
      "    0.16     0.16     0.15     0.13     0.13     0.13     0.11     0.11 \n",
      "    gave  generat    build \n",
      "    0.11     0.11     0.10 \n",
      "\n",
      "$get\n",
      "numeric(0)\n",
      "\n",
      "$good\n",
      "societi \n",
      "    0.1 \n",
      "\n",
      "$googl\n",
      "      search       replac donenncompar     jdjkelli       threat       better \n",
      "        0.49         0.31         0.17         0.16         0.14         0.13 \n",
      "        done      qualiti        queri          top \n",
      "        0.13         0.13         0.11         0.11 \n",
      "\n",
      "$just\n",
      "numeric(0)\n",
      "\n",
      "$like\n",
      "feel look \n",
      "0.27 0.17 \n",
      "\n",
      "$model\n",
      "   languag      optim    dialogu       larg inappropri      train     reject \n",
      "      0.54       0.43       0.39       0.26       0.18       0.18       0.16 \n",
      "   convers   followup  incorrect \n",
      "      0.11       0.11       0.10 \n",
      "\n",
      "$new\n",
      " sitcom chatbot  easili  script   trick explain   still   aipow \n",
      "   0.27    0.26    0.20    0.19    0.19    0.18    0.14    0.13 \n",
      "\n",
      "$openai\n",
      "chatbot  releas  sitcom   debut     gpt  easili   trick \n",
      "   0.19    0.15    0.14    0.12    0.12    0.11    0.11 \n",
      "\n",
      "$question\n",
      " followup    premis     admit incorrect    mistak   version  challeng      demo \n",
      "     0.22      0.19      0.18      0.17      0.15      0.13      0.12      0.12 \n",
      "   reject \n",
      "     0.11 \n",
      "\n",
      "$tri\n",
      "numeric(0)\n",
      "\n",
      "$use\n",
      "   case generat product instead \n",
      "   0.13    0.12    0.11    0.10 \n",
      "\n",
      "$will\n",
      "   soon   becom  impact obsolet    kill     job  replac content    help   peopl \n",
      "   0.17    0.13    0.13    0.13    0.12    0.11    0.11    0.10    0.10    0.10 \n",
      " search \n",
      "   0.10 \n",
      "\n",
      "$write\n",
      " script  sitcom    poem  easili   trick   haiku   scene   essay explain    song \n",
      "   0.26    0.24    0.21    0.18    0.17    0.15    0.15    0.14    0.14    0.13 \n",
      "chatbot     rap   still \n",
      "   0.11    0.11    0.10 \n",
      "\n"
     ]
    }
   ],
   "source": [
    "#associations between higher frequency terms\n",
    "asso = findAssocs(dtm, terms = findFreqTerms(dtm, lowfreq = 300), corlimit = 0.1)\n",
    "print(asso)"
   ]
  },
  {
   "cell_type": "code",
   "execution_count": 75,
   "id": "338e4192",
   "metadata": {},
   "outputs": [],
   "source": [
    "#encoding the labels\n",
    "data$labels = factor(data$labels,\n",
    "                     levels = c('neutral','good','bad'),\n",
    "                     labels = c(1,2,3))\n",
    "dataset$labels = data$labels"
   ]
  },
  {
   "cell_type": "code",
   "execution_count": null,
   "id": "d561df3c",
   "metadata": {},
   "outputs": [],
   "source": [
    "install.packages(\"caTools\",repos='http://cran.us.r-project.org')"
   ]
  },
  {
   "cell_type": "code",
   "execution_count": 26,
   "id": "ee8d9d78",
   "metadata": {},
   "outputs": [],
   "source": [
    "library(caTools)"
   ]
  },
  {
   "cell_type": "markdown",
   "id": "d7b9070c",
   "metadata": {},
   "source": [
    "### Splitting the dataset"
   ]
  },
  {
   "cell_type": "code",
   "execution_count": 76,
   "id": "86da0a35",
   "metadata": {},
   "outputs": [],
   "source": [
    "#splitting the dataset into train and test\n",
    "set.seed(223)\n",
    "split = sample.split(dataset$labels)\n",
    "train = subset(dataset, split == TRUE)\n",
    "test = subset(dataset, split == FALSE)\n"
   ]
  },
  {
   "cell_type": "code",
   "execution_count": 78,
   "id": "87290d73",
   "metadata": {},
   "outputs": [
    {
     "data": {
      "text/html": [
       "<ol class=list-inline>\n",
       "\t<li>4001</li>\n",
       "\t<li>1308</li>\n",
       "</ol>\n"
      ],
      "text/latex": [
       "\\begin{enumerate*}\n",
       "\\item 4001\n",
       "\\item 1308\n",
       "\\end{enumerate*}\n"
      ],
      "text/markdown": [
       "1. 4001\n",
       "2. 1308\n",
       "\n",
       "\n"
      ],
      "text/plain": [
       "[1] 4001 1308"
      ]
     },
     "metadata": {},
     "output_type": "display_data"
    }
   ],
   "source": [
    "dimen = dim(train)\n",
    "dimen"
   ]
  },
  {
   "cell_type": "markdown",
   "id": "090b916d",
   "metadata": {},
   "source": [
    "## KNN"
   ]
  },
  {
   "cell_type": "code",
   "execution_count": 77,
   "id": "c68ae432",
   "metadata": {},
   "outputs": [],
   "source": [
    "library(class)"
   ]
  },
  {
   "cell_type": "code",
   "execution_count": 80,
   "id": "8376803a",
   "metadata": {},
   "outputs": [],
   "source": [
    "y_pred = knn(train = train[-1308],\n",
    "             test = test[-1308],\n",
    "             cl = train$labels,\n",
    "             k = 3,\n",
    "             prob = TRUE)"
   ]
  },
  {
   "cell_type": "code",
   "execution_count": 81,
   "id": "5cc096b7",
   "metadata": {},
   "outputs": [],
   "source": [
    "cn_mx = table(test$labels,y_pred)"
   ]
  },
  {
   "cell_type": "code",
   "execution_count": 82,
   "id": "ac2200cc",
   "metadata": {},
   "outputs": [
    {
     "data": {
      "text/plain": [
       "   y_pred\n",
       "      1   2   3\n",
       "  1 113  10 387\n",
       "  2  83  89 378\n",
       "  3  26   5 908"
      ]
     },
     "metadata": {},
     "output_type": "display_data"
    }
   ],
   "source": [
    "cn_mx"
   ]
  },
  {
   "cell_type": "code",
   "execution_count": 83,
   "id": "9f4ddc00",
   "metadata": {},
   "outputs": [
    {
     "data": {
      "text/html": [
       "0.55527763881941"
      ],
      "text/latex": [
       "0.55527763881941"
      ],
      "text/markdown": [
       "0.55527763881941"
      ],
      "text/plain": [
       "[1] 0.5552776"
      ]
     },
     "metadata": {},
     "output_type": "display_data"
    }
   ],
   "source": [
    "accuracy = sum(y_pred == test$labels) / length(test$labels)\n",
    "accuracy"
   ]
  },
  {
   "cell_type": "markdown",
   "id": "c05b4135",
   "metadata": {},
   "source": [
    "## SVM"
   ]
  },
  {
   "cell_type": "code",
   "execution_count": 42,
   "id": "de733542",
   "metadata": {},
   "outputs": [],
   "source": [
    "library(e1071)"
   ]
  },
  {
   "cell_type": "code",
   "execution_count": 84,
   "id": "c8ab2920",
   "metadata": {},
   "outputs": [],
   "source": [
    "classifier = svm(formula = labels ~ .,\n",
    "                 data = train,\n",
    "                 type = 'C-classification',\n",
    "                 kernel = 'linear')"
   ]
  },
  {
   "cell_type": "code",
   "execution_count": 86,
   "id": "ad71e7b9",
   "metadata": {},
   "outputs": [],
   "source": [
    "pred = predict(classifier, newdata = test[-1308])"
   ]
  },
  {
   "cell_type": "code",
   "execution_count": 87,
   "id": "c02990c5",
   "metadata": {},
   "outputs": [
    {
     "data": {
      "text/plain": [
       "   pred\n",
       "      1   2   3\n",
       "  1 286 111 113\n",
       "  2 168 331  51\n",
       "  3 239  50 650"
      ]
     },
     "metadata": {},
     "output_type": "display_data"
    }
   ],
   "source": [
    "mx = table(test$labels,pred)\n",
    "mx"
   ]
  },
  {
   "cell_type": "code",
   "execution_count": 88,
   "id": "387fe32e",
   "metadata": {},
   "outputs": [
    {
     "data": {
      "text/html": [
       "0.633816908454227"
      ],
      "text/latex": [
       "0.633816908454227"
      ],
      "text/markdown": [
       "0.633816908454227"
      ],
      "text/plain": [
       "[1] 0.6338169"
      ]
     },
     "metadata": {},
     "output_type": "display_data"
    }
   ],
   "source": [
    "accuracy = sum(pred == test$labels) / length(test$labels)\n",
    "accuracy"
   ]
  },
  {
   "cell_type": "markdown",
   "id": "d42c2fbd",
   "metadata": {},
   "source": [
    "## CART"
   ]
  },
  {
   "cell_type": "code",
   "execution_count": 91,
   "id": "2095b2af",
   "metadata": {},
   "outputs": [],
   "source": [
    "library(rpart)\n",
    "library(rpart.plot)"
   ]
  },
  {
   "cell_type": "code",
   "execution_count": 92,
   "id": "ee269f77",
   "metadata": {},
   "outputs": [
    {
     "data": {
      "image/png": "[encoded data removed]",
      "text/plain": [
       "plot without title"
      ]
     },
     "metadata": {},
     "output_type": "display_data"
    }
   ],
   "source": [
    "tree = rpart(labels ~ .,data = train, method = \"class\")\n",
    "prp(tree)\n",
    "pred = predict(tree, newdata = test[-1308], type = \"class\")"
   ]
  },
  {
   "cell_type": "code",
   "execution_count": 93,
   "id": "fd74102c",
   "metadata": {},
   "outputs": [
    {
     "data": {
      "text/plain": [
       "   pred\n",
       "      1   2   3\n",
       "  1 126  78 306\n",
       "  2  67 299 184\n",
       "  3  19  29 891"
      ]
     },
     "metadata": {},
     "output_type": "display_data"
    }
   ],
   "source": [
    "mx = table(test$labels,pred)\n",
    "mx"
   ]
  },
  {
   "cell_type": "code",
   "execution_count": 94,
   "id": "289ae484",
   "metadata": {},
   "outputs": [
    {
     "data": {
      "text/html": [
       "0.658329164582291"
      ],
      "text/latex": [
       "0.658329164582291"
      ],
      "text/markdown": [
       "0.658329164582291"
      ],
      "text/plain": [
       "[1] 0.6583292"
      ]
     },
     "metadata": {},
     "output_type": "display_data"
    }
   ],
   "source": [
    "accuracy = sum(pred == test$labels) / length(test$labels)\n",
    "accuracy"
   ]
  }
 ],
 "metadata": {
  "kernelspec": {
   "display_name": "R",
   "language": "R",
   "name": "ir"
  },
  "language_info": {
   "codemirror_mode": "r",
   "file_extension": ".r",
   "mimetype": "text/x-r-source",
   "name": "R",
   "pygments_lexer": "r",
   "version": "3.6.1"
  }
 },
 "nbformat": 4,
 "nbformat_minor": 5
}
